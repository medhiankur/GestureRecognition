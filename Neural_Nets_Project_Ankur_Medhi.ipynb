{
  "cells": [
    {
      "cell_type": "markdown",
      "source": [
        "# Gesture Recognition\n",
        "In this group project, you are going to build a 3D Conv model that will be able to predict the 5 gestures correctly. Please import the following libraries to get started."
      ],
      "metadata": {
        "id": "gXoqzEardcQF"
      },
      "id": "gXoqzEardcQF"
    },
    {
      "cell_type": "code",
      "execution_count": 2,
      "id": "d48279ac",
      "metadata": {
        "id": "d48279ac"
      },
      "outputs": [],
      "source": [
        "import numpy as np\n",
        "import os\n",
        "#from scipy.misc import imread, imresize\n",
        "import cv2\n",
        "import imageio\n",
        "import datetime\n",
        "import os"
      ]
    },
    {
      "cell_type": "markdown",
      "source": [
        "We set the random seed so that the results don't vary drastically."
      ],
      "metadata": {
        "id": "Wq6kSqA8dimJ"
      },
      "id": "Wq6kSqA8dimJ"
    },
    {
      "cell_type": "code",
      "execution_count": null,
      "id": "962f2c42",
      "metadata": {
        "id": "962f2c42"
      },
      "outputs": [],
      "source": [
        "np.random.seed(30)\n",
        "import random as rn\n",
        "rn.seed(30)\n",
        "from keras import backend as K\n",
        "import tensorflow as tf\n",
        "tf.random.set_seed(30)\n",
        "\n",
        "\n"
      ]
    },
    {
      "cell_type": "markdown",
      "source": [
        "In this block, you read the folder names for training and validation. You also set the `batch_size` here. Note that you set the batch size in such a way that you are able to use the GPU in full capacity. You keep increasing the batch size until the machine throws an error."
      ],
      "metadata": {
        "id": "sSCXF0Ordp6D"
      },
      "id": "sSCXF0Ordp6D"
    },
    {
      "cell_type": "code",
      "source": [
        "from google.colab import drive\n",
        "drive.mount('/content/gdrive/', force_remount=True)"
      ],
      "metadata": {
        "colab": {
          "base_uri": "https://localhost:8080/"
        },
        "id": "4f7EZIuc-wXE",
        "outputId": "4989afe4-77b8-4af9-feda-4676eae5cf5c"
      },
      "id": "4f7EZIuc-wXE",
      "execution_count": 1,
      "outputs": [
        {
          "output_type": "stream",
          "name": "stdout",
          "text": [
            "Mounted at /content/gdrive/\n"
          ]
        }
      ]
    },
    {
      "cell_type": "code",
      "execution_count": null,
      "id": "d2c6656b",
      "metadata": {
        "id": "d2c6656b"
      },
      "outputs": [],
      "source": [
        "train_doc = np.random.permutation(open('/content/gdrive/MyDrive/Upgrad/RNN/Project_data/Project_data/train.csv').readlines())\n",
        "val_doc = np.random.permutation(open('/content/gdrive/MyDrive/Upgrad/RNN/Project_data/Project_data/val.csv').readlines())\n",
        "batch_size = 50\n",
        "#experiment with the batch size\n"
      ]
    },
    {
      "cell_type": "markdown",
      "source": [
        "## Generator\n",
        "This is one of the most important part of the code. The overall structure of the generator has been given. In the generator, you are going to preprocess the images as you have images of 2 different dimensions as well as create a batch of video frames. You have to experiment with `img_idx`, `y`,`z` and normalization such that you get high accuracy."
      ],
      "metadata": {
        "id": "qa0Xaac9dxvK"
      },
      "id": "qa0Xaac9dxvK"
    },
    {
      "cell_type": "code",
      "source": [
        "x = 30 # # x is the number of images\n",
        "y = 120 # width of the image\n",
        "z = 120 # height of the image"
      ],
      "metadata": {
        "id": "lLfyjbYjEgNc"
      },
      "id": "lLfyjbYjEgNc",
      "execution_count": null,
      "outputs": []
    },
    {
      "cell_type": "code",
      "execution_count": null,
      "id": "1e092367",
      "metadata": {
        "id": "1e092367"
      },
      "outputs": [],
      "source": [
        "def generator(source_path, folder_list, batch_size):\n",
        "    print( 'Source path = ', source_path, '; batch size =', batch_size)\n",
        "    img_idx = [x for x in range(0,x)] #create a list of image numbers you want to use for a particular video\n",
        "    while True:\n",
        "        t = np.random.permutation(folder_list)\n",
        "        num_batches = len(folder_list)//batch_size # calculate the number of batches\n",
        "        for batch in range(num_batches): # we iterate over the number of batches\n",
        "            batch_data = np.zeros((batch_size,x,y,z,3)) # x is the number of images you use for each video, (y,z) is the final size of the input images and 3 is the number of channels RGB\n",
        "            batch_labels = np.zeros((batch_size,5)) # batch_labels is the one hot representation of the output\n",
        "            for folder in range(batch_size): # iterate over the batch_size\n",
        "                imgs = os.listdir(source_path+'/'+ t[folder + (batch*batch_size)].split(';')[0]) # read all the images in the folder\n",
        "                for idx,item in enumerate(img_idx): #  Iterate iver the frames/images of a folder to read them in\n",
        "                    image = imageio.imread(source_path+'/'+ t[folder + (batch*batch_size)].strip().split(';')[0]+'/'+imgs[item]).astype(np.float32)\n",
        "\n",
        "                    #crop the images and resize them. Note that the images are of 2 different shape\n",
        "                    #and the conv3D will throw error if the inputs in a batch have different shapes\n",
        "                    temp = cv2.resize(image,(120,120))\n",
        "                    temp = temp/127.5-1 #Normalize data\n",
        "\n",
        "                    batch_data[folder,idx,:,:,0] = (temp[:,:,0]) #normalise and feed in the image\n",
        "                    batch_data[folder,idx,:,:,1] = (temp[:,:,1]) #normalise and feed in the image\n",
        "                    batch_data[folder,idx,:,:,2] = (temp[:,:,2]) #normalise and feed in the image\n",
        "\n",
        "                batch_labels[folder, int(t[folder + (batch*batch_size)].strip().split(';')[2])] = 1\n",
        "            yield batch_data, batch_labels #you yield the batch_data and the batch_labels, remember what does yield do\n",
        "\n",
        "\n",
        "        # write the code for the remaining data points which are left after full batches\n",
        "\n",
        "        if (len(folder_list) != batch_size*num_batches):\n",
        "            print(\"Batch: \",num_batches+1,\"Index:\", batch_size)\n",
        "            batch_size = len(folder_list) - (batch_size*num_batches)\n",
        "            batch_data = np.zeros((batch_size,x,y,z,3)) # x is the number of images you use for each video, (y,z) is the final size of the input images and 3 is the number of channels RGB\n",
        "            batch_labels = np.zeros((batch_size,5)) # batch_labels is the one hot representation of the output\n",
        "            for folder in range(batch_size): # iterate over the batch_size\n",
        "                imgs = os.listdir(source_path+'/'+ t[folder + (batch*batch_size)].split(';')[0]) # read all the images in the folder\n",
        "                for idx,item in enumerate(img_idx): #  Iterate iver the frames/images of a folder to read them in\n",
        "                    image = imageio.imread(source_path+'/'+ t[folder + (batch*batch_size)].strip().split(';')[0]+'/'+imgs[item]).astype(np.float32)\n",
        "\n",
        "                    #crop the images and resize them. Note that the images are of 2 different shape\n",
        "                    #and the conv3D will throw error if the inputs in a batch have different shapes\n",
        "                    temp = cv2.resize(image,(120,120))\n",
        "                    temp = temp/127.5-1 #Normalize data\n",
        "\n",
        "                    batch_data[folder,idx,:,:,0] = (temp[:,:,0])\n",
        "                    batch_data[folder,idx,:,:,1] = (temp[:,:,1])\n",
        "                    batch_data[folder,idx,:,:,2] = (temp[:,:,2])\n",
        "\n",
        "                batch_labels[folder, int(t[folder + (batch*batch_size)].strip().split(';')[2])] = 1\n",
        "            yield batch_data, batch_labels\n",
        "\n"
      ]
    },
    {
      "cell_type": "markdown",
      "source": [
        "Note here that a video is represented above in the generator as (number of images, height, width, number of channels). Take this into consideration while creating the model architecture."
      ],
      "metadata": {
        "id": "QUMyHrwxd91J"
      },
      "id": "QUMyHrwxd91J"
    },
    {
      "cell_type": "code",
      "execution_count": null,
      "id": "91bb15ac",
      "metadata": {
        "colab": {
          "base_uri": "https://localhost:8080/"
        },
        "id": "91bb15ac",
        "outputId": "c7febc39-8c70-48d1-b67f-a8724342623b"
      },
      "outputs": [
        {
          "output_type": "stream",
          "name": "stdout",
          "text": [
            "# training sequences = 663\n",
            "# validation sequences = 100\n",
            "# epochs = 30\n"
          ]
        }
      ],
      "source": [
        "\n",
        "curr_dt_time = datetime.datetime.now()\n",
        "train_path = '/content/gdrive/MyDrive/Upgrad/RNN/Project_data/Project_data/train'\n",
        "val_path = '/content/gdrive/MyDrive/Upgrad/RNN/Project_data/Project_data/val'\n",
        "num_train_sequences = len(train_doc)\n",
        "print('# training sequences =', num_train_sequences)\n",
        "num_val_sequences = len(val_doc)\n",
        "print('# validation sequences =', num_val_sequences)\n",
        "num_epochs = 30\n",
        "print ('# epochs =', num_epochs)\n",
        "# choose the number of epochs\n",
        "#generator(train_path, train_doc, batch_size)\n",
        "\n",
        "\n"
      ]
    },
    {
      "cell_type": "markdown",
      "source": [
        "## Model\n",
        "Here you make the model using different functionalities that Keras provides. Remember to use `Conv3D` and `MaxPooling3D` and not `Conv2D` and `Maxpooling2D` for a 3D convolution model. You would want to use `TimeDistributed` while building a Conv2D + RNN model. Also remember that the last layer is the softmax. Design the network in such a way that the model is able to give good accuracy on the least number of parameters so that it can fit in the memory of the webcam."
      ],
      "metadata": {
        "id": "X3EShIWCeDrZ"
      },
      "id": "X3EShIWCeDrZ"
    },
    {
      "cell_type": "code",
      "execution_count": null,
      "id": "2195f9af",
      "metadata": {
        "lines_to_next_cell": 2,
        "id": "2195f9af"
      },
      "outputs": [],
      "source": [
        "import keras\n",
        "from keras.models import Sequential, Model\n",
        "from keras.layers import Dense, GRU, Flatten, TimeDistributed, Flatten, BatchNormalization, Activation\n",
        "from keras.layers import Conv3D, MaxPooling3D\n",
        "from keras.callbacks import ModelCheckpoint, ReduceLROnPlateau\n",
        "from keras import optimizers\n",
        "from keras.layers import Dropout"
      ]
    },
    {
      "cell_type": "code",
      "source": [
        "model_al1 = Sequential()\n",
        "\n",
        "model_al1.add(Conv3D(8, #number of filters\n",
        "                 kernel_size=(3,3,3),\n",
        "                 input_shape=(30, 120, 120, 3),\n",
        "                 padding='same'))\n",
        "model_al1.add(BatchNormalization())\n",
        "model_al1.add(Activation('relu'))\n",
        "\n",
        "model_al1.add(MaxPooling3D(pool_size=(2,2,2)))\n",
        "\n",
        "model_al1.add(Conv3D(16, #Number of filters,\n",
        "                 kernel_size=(3,3,3),\n",
        "                 padding='same'))\n",
        "model_al1.add(BatchNormalization())\n",
        "model_al1.add(Activation('relu'))\n",
        "\n",
        "model_al1.add(MaxPooling3D(pool_size=(2,2,2)))\n",
        "\n",
        "model_al1.add(Conv3D(32, #Number of filters\n",
        "                 kernel_size=(3,3,3),\n",
        "                 padding='same'))\n",
        "model_al1.add(BatchNormalization())\n",
        "model_al1.add(Activation('relu'))\n",
        "\n",
        "model_al1.add(MaxPooling3D(pool_size=(2,2,2)))\n",
        "\n",
        "model_al1.add(Conv3D(64, #Number pf filters\n",
        "                 kernel_size=(3,3,3),\n",
        "                 padding='same'))\n",
        "model_al1.add(BatchNormalization())\n",
        "model_al1.add(Activation('relu'))\n",
        "\n",
        "model_al1.add(MaxPooling3D(pool_size=(2,2,2)))\n",
        "\n",
        "#Flatten Layers\n",
        "model_al1.add(Flatten())\n",
        "\n",
        "model_al1.add(Dense(1000, activation='relu'))\n",
        "model_al1.add(Dropout(0.5))\n",
        "\n",
        "model_al1.add(Dense(500, activation='relu'))\n",
        "model_al1.add(Dropout(0.5))\n",
        "\n",
        "#softmax layer\n",
        "model_al1.add(Dense(5, activation='softmax'))\n",
        "\n"
      ],
      "metadata": {
        "id": "hfLYRYw1FRez"
      },
      "id": "hfLYRYw1FRez",
      "execution_count": null,
      "outputs": []
    },
    {
      "cell_type": "markdown",
      "source": [
        "Now that you have written the model, the next step is to `compile` the model. When you print the `summary` of the model, you'll see the total number of parameters you have to train."
      ],
      "metadata": {
        "id": "Ya43Fp5ieLp0"
      },
      "id": "Ya43Fp5ieLp0"
    },
    {
      "cell_type": "code",
      "source": [
        "optimiser = optimizers.Adam(lr=0.001) #write your optimizer\n",
        "model_al1.compile(optimizer=optimiser, loss='categorical_crossentropy', metrics=['categorical_accuracy'])\n",
        "print (model_al1.summary())"
      ],
      "metadata": {
        "colab": {
          "base_uri": "https://localhost:8080/"
        },
        "id": "4V9n7JrxFW4N",
        "outputId": "a2b1ea13-89d2-4be9-f7e9-e2127d145082"
      },
      "id": "4V9n7JrxFW4N",
      "execution_count": null,
      "outputs": [
        {
          "output_type": "stream",
          "name": "stderr",
          "text": [
            "WARNING:absl:`lr` is deprecated in Keras optimizer, please use `learning_rate` or use the legacy optimizer, e.g.,tf.keras.optimizers.legacy.Adam.\n"
          ]
        },
        {
          "output_type": "stream",
          "name": "stdout",
          "text": [
            "Model: \"sequential_1\"\n",
            "_________________________________________________________________\n",
            " Layer (type)                Output Shape              Param #   \n",
            "=================================================================\n",
            " conv3d_4 (Conv3D)           (None, 30, 120, 120, 8)   656       \n",
            "                                                                 \n",
            " batch_normalization_4 (Bat  (None, 30, 120, 120, 8)   32        \n",
            " chNormalization)                                                \n",
            "                                                                 \n",
            " activation_4 (Activation)   (None, 30, 120, 120, 8)   0         \n",
            "                                                                 \n",
            " max_pooling3d_4 (MaxPoolin  (None, 15, 60, 60, 8)     0         \n",
            " g3D)                                                            \n",
            "                                                                 \n",
            " conv3d_5 (Conv3D)           (None, 15, 60, 60, 16)    3472      \n",
            "                                                                 \n",
            " batch_normalization_5 (Bat  (None, 15, 60, 60, 16)    64        \n",
            " chNormalization)                                                \n",
            "                                                                 \n",
            " activation_5 (Activation)   (None, 15, 60, 60, 16)    0         \n",
            "                                                                 \n",
            " max_pooling3d_5 (MaxPoolin  (None, 7, 30, 30, 16)     0         \n",
            " g3D)                                                            \n",
            "                                                                 \n",
            " conv3d_6 (Conv3D)           (None, 7, 30, 30, 32)     13856     \n",
            "                                                                 \n",
            " batch_normalization_6 (Bat  (None, 7, 30, 30, 32)     128       \n",
            " chNormalization)                                                \n",
            "                                                                 \n",
            " activation_6 (Activation)   (None, 7, 30, 30, 32)     0         \n",
            "                                                                 \n",
            " max_pooling3d_6 (MaxPoolin  (None, 3, 15, 15, 32)     0         \n",
            " g3D)                                                            \n",
            "                                                                 \n",
            " conv3d_7 (Conv3D)           (None, 3, 15, 15, 64)     55360     \n",
            "                                                                 \n",
            " batch_normalization_7 (Bat  (None, 3, 15, 15, 64)     256       \n",
            " chNormalization)                                                \n",
            "                                                                 \n",
            " activation_7 (Activation)   (None, 3, 15, 15, 64)     0         \n",
            "                                                                 \n",
            " max_pooling3d_7 (MaxPoolin  (None, 1, 7, 7, 64)       0         \n",
            " g3D)                                                            \n",
            "                                                                 \n",
            " flatten_1 (Flatten)         (None, 3136)              0         \n",
            "                                                                 \n",
            " dense_3 (Dense)             (None, 1000)              3137000   \n",
            "                                                                 \n",
            " dropout_2 (Dropout)         (None, 1000)              0         \n",
            "                                                                 \n",
            " dense_4 (Dense)             (None, 500)               500500    \n",
            "                                                                 \n",
            " dropout_3 (Dropout)         (None, 500)               0         \n",
            "                                                                 \n",
            " dense_5 (Dense)             (None, 5)                 2505      \n",
            "                                                                 \n",
            "=================================================================\n",
            "Total params: 3713829 (14.17 MB)\n",
            "Trainable params: 3713589 (14.17 MB)\n",
            "Non-trainable params: 240 (960.00 Byte)\n",
            "_________________________________________________________________\n",
            "None\n"
          ]
        }
      ]
    },
    {
      "cell_type": "markdown",
      "source": [
        "Let us create the train_generator and the val_generator which will be used in .fit_generator."
      ],
      "metadata": {
        "id": "UG8L7ehdeT0x"
      },
      "id": "UG8L7ehdeT0x"
    },
    {
      "cell_type": "code",
      "execution_count": null,
      "id": "ed1e935f",
      "metadata": {
        "colab": {
          "base_uri": "https://localhost:8080/"
        },
        "id": "ed1e935f",
        "outputId": "d3ed5cb1-0081-4b78-d464-991deefe5b93"
      },
      "outputs": [
        {
          "output_type": "stream",
          "name": "stdout",
          "text": [
            "training generator done\n",
            "validation generator done\n"
          ]
        }
      ],
      "source": [
        "train_generator = generator(train_path, train_doc, batch_size)\n",
        "print(\"training generator done\")\n",
        "val_generator = generator(val_path, val_doc, batch_size)\n",
        "print(\"validation generator done\")"
      ]
    },
    {
      "cell_type": "code",
      "execution_count": null,
      "id": "566caa9c",
      "metadata": {
        "colab": {
          "base_uri": "https://localhost:8080/"
        },
        "id": "566caa9c",
        "outputId": "c64352ba-9299-4aee-a958-0073dbc7ae45"
      },
      "outputs": [
        {
          "output_type": "stream",
          "name": "stderr",
          "text": [
            "WARNING:tensorflow:`period` argument is deprecated. Please use `save_freq` to specify the frequency in number of batches seen.\n"
          ]
        }
      ],
      "source": [
        "\n",
        "\n",
        "model_name = 'model_init' + '_' + str(curr_dt_time).replace(' ','').replace(':','_') + '/'\n",
        "\n",
        "if not os.path.exists(model_name):\n",
        "    os.mkdir(model_name)\n",
        "\n",
        "filepath = model_name + 'model-{epoch:05d}-{loss:.5f}-{categorical_accuracy:.5f}-{val_loss:.5f}-{val_categorical_accuracy:.5f}.h5'\n",
        "\n",
        "checkpoint = ModelCheckpoint(filepath, monitor='val_loss', verbose=1, save_best_only=False, save_weights_only=False, mode='auto', period=1)\n",
        "\n",
        "LR = ReduceLROnPlateau(monitor='val_loss', factor=0.5, patience=2, cooldown=1, verbose=1)\n",
        "# write the REducelronplateau code here\n",
        "callbacks_list = [checkpoint, LR]\n",
        "\n",
        "\n"
      ]
    },
    {
      "cell_type": "code",
      "execution_count": null,
      "id": "cb10c402",
      "metadata": {
        "colab": {
          "base_uri": "https://localhost:8080/"
        },
        "id": "cb10c402",
        "outputId": "c668f40b-5ae3-4783-be67-0df1655105f1"
      },
      "outputs": [
        {
          "output_type": "stream",
          "name": "stdout",
          "text": [
            "14\n",
            "2\n"
          ]
        }
      ],
      "source": [
        "\n",
        "\n",
        "if (num_train_sequences%batch_size) == 0:\n",
        "    steps_per_epoch = int(num_train_sequences/batch_size)\n",
        "else:\n",
        "    steps_per_epoch = (num_train_sequences//batch_size) + 1\n",
        "\n",
        "if (num_val_sequences%batch_size) == 0:\n",
        "    validation_steps = int(num_val_sequences/batch_size)\n",
        "else:\n",
        "    validation_steps = (num_val_sequences//batch_size) + 1\n",
        "\n",
        "print(steps_per_epoch)\n",
        "print(validation_steps)\n",
        "\n"
      ]
    },
    {
      "cell_type": "markdown",
      "source": [
        "Let us now fit the model. This will start training the model and with the help of the checkpoints, you'll be able to save the model at the end of each epoch."
      ],
      "metadata": {
        "id": "VlOf4eZOed9b"
      },
      "id": "VlOf4eZOed9b"
    },
    {
      "cell_type": "code",
      "execution_count": null,
      "id": "9d8766d5",
      "metadata": {
        "colab": {
          "base_uri": "https://localhost:8080/"
        },
        "id": "9d8766d5",
        "outputId": "e0145a4f-cde8-4c40-9e16-b959bfa8317a"
      },
      "outputs": [
        {
          "output_type": "stream",
          "name": "stderr",
          "text": [
            "<ipython-input-23-2dbeb5e89a4d>:1: UserWarning: `Model.fit_generator` is deprecated and will be removed in a future version. Please use `Model.fit`, which supports generators.\n",
            "  model_al1.fit_generator(train_generator, steps_per_epoch=steps_per_epoch, epochs=num_epochs, verbose=1,\n",
            "<ipython-input-6-502af651a6fd>:13: DeprecationWarning: Starting with ImageIO v3 the behavior of this function will switch to that of iio.v3.imread. To keep the current behavior (and make this warning disappear) use `import imageio.v2 as imageio` or call `imageio.v2.imread` directly.\n",
            "  image = imageio.imread(source_path+'/'+ t[folder + (batch*batch_size)].strip().split(';')[0]+'/'+imgs[item]).astype(np.float32)\n"
          ]
        },
        {
          "output_type": "stream",
          "name": "stdout",
          "text": [
            "Source path =  /content/gdrive/MyDrive/Upgrad/RNN/Project_data/Project_data/train ; batch size = 50\n",
            "Epoch 1/30\n",
            "11/14 [======================>.......] - ETA: 2:55 - loss: 4.0411 - categorical_accuracy: 0.2364Batch:  14 Index: 50\n"
          ]
        },
        {
          "output_type": "stream",
          "name": "stderr",
          "text": [
            "<ipython-input-6-502af651a6fd>:38: DeprecationWarning: Starting with ImageIO v3 the behavior of this function will switch to that of iio.v3.imread. To keep the current behavior (and make this warning disappear) use `import imageio.v2 as imageio` or call `imageio.v2.imread` directly.\n",
            "  image = imageio.imread(source_path+'/'+ t[folder + (batch*batch_size)].strip().split(';')[0]+'/'+imgs[item]).astype(np.float32)\n"
          ]
        },
        {
          "output_type": "stream",
          "name": "stdout",
          "text": [
            "14/14 [==============================] - ETA: 0s - loss: 3.6238 - categorical_accuracy: 0.2519 Source path =  /content/gdrive/MyDrive/Upgrad/RNN/Project_data/Project_data/val ; batch size = 50\n",
            "\n",
            "Epoch 1: saving model to model_init_2023-12-0412_48_39.221333/model-00001-3.62377-0.25189-1.54456-0.23000.h5\n",
            "14/14 [==============================] - 879s 62s/step - loss: 3.6238 - categorical_accuracy: 0.2519 - val_loss: 1.5446 - val_categorical_accuracy: 0.2300 - lr: 0.0010\n",
            "Epoch 2/30\n",
            "14/14 [==============================] - ETA: 0s - loss: 1.5499 - categorical_accuracy: 0.3516 \n",
            "Epoch 2: saving model to model_init_2023-12-0412_48_39.221333/model-00002-1.54987-0.35165-1.43839-0.34000.h5\n",
            "14/14 [==============================] - 280s 20s/step - loss: 1.5499 - categorical_accuracy: 0.3516 - val_loss: 1.4384 - val_categorical_accuracy: 0.3400 - lr: 0.0010\n",
            "Epoch 3/30\n",
            "14/14 [==============================] - ETA: 0s - loss: 1.4213 - categorical_accuracy: 0.4066 \n",
            "Epoch 3: saving model to model_init_2023-12-0412_48_39.221333/model-00003-1.42134-0.40659-1.39842-0.44000.h5\n",
            "14/14 [==============================] - 300s 22s/step - loss: 1.4213 - categorical_accuracy: 0.4066 - val_loss: 1.3984 - val_categorical_accuracy: 0.4400 - lr: 0.0010\n",
            "Epoch 4/30\n",
            "14/14 [==============================] - ETA: 0s - loss: 1.2955 - categorical_accuracy: 0.4176 \n",
            "Epoch 4: saving model to model_init_2023-12-0412_48_39.221333/model-00004-1.29550-0.41758-1.41653-0.40000.h5\n",
            "14/14 [==============================] - 295s 21s/step - loss: 1.2955 - categorical_accuracy: 0.4176 - val_loss: 1.4165 - val_categorical_accuracy: 0.4000 - lr: 0.0010\n",
            "Epoch 5/30\n",
            "14/14 [==============================] - ETA: 0s - loss: 1.2108 - categorical_accuracy: 0.4670 \n",
            "Epoch 5: saving model to model_init_2023-12-0412_48_39.221333/model-00005-1.21077-0.46703-1.73968-0.26000.h5\n",
            "\n",
            "Epoch 5: ReduceLROnPlateau reducing learning rate to 0.0005000000237487257.\n",
            "14/14 [==============================] - 297s 22s/step - loss: 1.2108 - categorical_accuracy: 0.4670 - val_loss: 1.7397 - val_categorical_accuracy: 0.2600 - lr: 0.0010\n",
            "Epoch 6/30\n",
            "14/14 [==============================] - ETA: 0s - loss: 1.0851 - categorical_accuracy: 0.5440 \n",
            "Epoch 6: saving model to model_init_2023-12-0412_48_39.221333/model-00006-1.08513-0.54396-1.64870-0.26000.h5\n",
            "14/14 [==============================] - 280s 20s/step - loss: 1.0851 - categorical_accuracy: 0.5440 - val_loss: 1.6487 - val_categorical_accuracy: 0.2600 - lr: 5.0000e-04\n",
            "Epoch 7/30\n",
            "14/14 [==============================] - ETA: 0s - loss: 1.0590 - categorical_accuracy: 0.5659 \n",
            "Epoch 7: saving model to model_init_2023-12-0412_48_39.221333/model-00007-1.05895-0.56593-1.59080-0.28000.h5\n",
            "\n",
            "Epoch 7: ReduceLROnPlateau reducing learning rate to 0.0002500000118743628.\n",
            "14/14 [==============================] - 299s 22s/step - loss: 1.0590 - categorical_accuracy: 0.5659 - val_loss: 1.5908 - val_categorical_accuracy: 0.2800 - lr: 5.0000e-04\n",
            "Epoch 8/30\n",
            "14/14 [==============================] - ETA: 0s - loss: 1.0796 - categorical_accuracy: 0.5165 \n",
            "Epoch 8: saving model to model_init_2023-12-0412_48_39.221333/model-00008-1.07959-0.51648-1.83190-0.28000.h5\n",
            "14/14 [==============================] - 294s 21s/step - loss: 1.0796 - categorical_accuracy: 0.5165 - val_loss: 1.8319 - val_categorical_accuracy: 0.2800 - lr: 2.5000e-04\n",
            "Epoch 9/30\n",
            "14/14 [==============================] - ETA: 0s - loss: 0.8780 - categorical_accuracy: 0.6154 \n",
            "Epoch 9: saving model to model_init_2023-12-0412_48_39.221333/model-00009-0.87795-0.61538-2.06128-0.29000.h5\n",
            "\n",
            "Epoch 9: ReduceLROnPlateau reducing learning rate to 0.0001250000059371814.\n",
            "14/14 [==============================] - 291s 21s/step - loss: 0.8780 - categorical_accuracy: 0.6154 - val_loss: 2.0613 - val_categorical_accuracy: 0.2900 - lr: 2.5000e-04\n",
            "Epoch 10/30\n",
            "14/14 [==============================] - ETA: 0s - loss: 0.9918 - categorical_accuracy: 0.6154 \n",
            "Epoch 10: saving model to model_init_2023-12-0412_48_39.221333/model-00010-0.99184-0.61538-1.98661-0.28000.h5\n",
            "14/14 [==============================] - 296s 22s/step - loss: 0.9918 - categorical_accuracy: 0.6154 - val_loss: 1.9866 - val_categorical_accuracy: 0.2800 - lr: 1.2500e-04\n",
            "Epoch 11/30\n",
            "14/14 [==============================] - ETA: 0s - loss: 0.7849 - categorical_accuracy: 0.6758 \n",
            "Epoch 11: saving model to model_init_2023-12-0412_48_39.221333/model-00011-0.78487-0.67582-2.11142-0.29000.h5\n",
            "\n",
            "Epoch 11: ReduceLROnPlateau reducing learning rate to 6.25000029685907e-05.\n",
            "14/14 [==============================] - 289s 21s/step - loss: 0.7849 - categorical_accuracy: 0.6758 - val_loss: 2.1114 - val_categorical_accuracy: 0.2900 - lr: 1.2500e-04\n",
            "Epoch 12/30\n",
            "14/14 [==============================] - ETA: 0s - loss: 0.8375 - categorical_accuracy: 0.6813 \n",
            "Epoch 12: saving model to model_init_2023-12-0412_48_39.221333/model-00012-0.83748-0.68132-1.91133-0.29000.h5\n",
            "14/14 [==============================] - 295s 21s/step - loss: 0.8375 - categorical_accuracy: 0.6813 - val_loss: 1.9113 - val_categorical_accuracy: 0.2900 - lr: 6.2500e-05\n",
            "Epoch 13/30\n",
            "14/14 [==============================] - ETA: 0s - loss: 0.7707 - categorical_accuracy: 0.7253 \n",
            "Epoch 13: saving model to model_init_2023-12-0412_48_39.221333/model-00013-0.77074-0.72527-1.75892-0.29000.h5\n",
            "\n",
            "Epoch 13: ReduceLROnPlateau reducing learning rate to 3.125000148429535e-05.\n",
            "14/14 [==============================] - 298s 22s/step - loss: 0.7707 - categorical_accuracy: 0.7253 - val_loss: 1.7589 - val_categorical_accuracy: 0.2900 - lr: 6.2500e-05\n",
            "Epoch 14/30\n",
            "14/14 [==============================] - ETA: 0s - loss: 0.9055 - categorical_accuracy: 0.6429 \n",
            "Epoch 14: saving model to model_init_2023-12-0412_48_39.221333/model-00014-0.90549-0.64286-1.78863-0.28000.h5\n",
            "14/14 [==============================] - 285s 21s/step - loss: 0.9055 - categorical_accuracy: 0.6429 - val_loss: 1.7886 - val_categorical_accuracy: 0.2800 - lr: 3.1250e-05\n",
            "Epoch 15/30\n",
            "14/14 [==============================] - ETA: 0s - loss: 0.7317 - categorical_accuracy: 0.7363 \n",
            "Epoch 15: saving model to model_init_2023-12-0412_48_39.221333/model-00015-0.73171-0.73626-1.80046-0.29000.h5\n",
            "\n",
            "Epoch 15: ReduceLROnPlateau reducing learning rate to 1.5625000742147677e-05.\n",
            "14/14 [==============================] - 295s 21s/step - loss: 0.7317 - categorical_accuracy: 0.7363 - val_loss: 1.8005 - val_categorical_accuracy: 0.2900 - lr: 3.1250e-05\n",
            "Epoch 16/30\n",
            "14/14 [==============================] - ETA: 0s - loss: 0.8067 - categorical_accuracy: 0.6538 \n",
            "Epoch 16: saving model to model_init_2023-12-0412_48_39.221333/model-00016-0.80673-0.65385-1.72194-0.32000.h5\n",
            "14/14 [==============================] - 295s 21s/step - loss: 0.8067 - categorical_accuracy: 0.6538 - val_loss: 1.7219 - val_categorical_accuracy: 0.3200 - lr: 1.5625e-05\n",
            "Epoch 17/30\n",
            "14/14 [==============================] - ETA: 0s - loss: 0.8046 - categorical_accuracy: 0.6593 \n",
            "Epoch 17: saving model to model_init_2023-12-0412_48_39.221333/model-00017-0.80463-0.65934-1.61225-0.34000.h5\n",
            "\n",
            "Epoch 17: ReduceLROnPlateau reducing learning rate to 7.812500371073838e-06.\n",
            "14/14 [==============================] - 288s 21s/step - loss: 0.8046 - categorical_accuracy: 0.6593 - val_loss: 1.6123 - val_categorical_accuracy: 0.3400 - lr: 1.5625e-05\n",
            "Epoch 18/30\n",
            "14/14 [==============================] - ETA: 0s - loss: 0.6521 - categorical_accuracy: 0.7418 \n",
            "Epoch 18: saving model to model_init_2023-12-0412_48_39.221333/model-00018-0.65208-0.74176-1.50408-0.37000.h5\n",
            "14/14 [==============================] - 296s 22s/step - loss: 0.6521 - categorical_accuracy: 0.7418 - val_loss: 1.5041 - val_categorical_accuracy: 0.3700 - lr: 7.8125e-06\n",
            "Epoch 19/30\n",
            "14/14 [==============================] - ETA: 0s - loss: 0.9174 - categorical_accuracy: 0.6538 \n",
            "Epoch 19: saving model to model_init_2023-12-0412_48_39.221333/model-00019-0.91740-0.65385-1.41146-0.41000.h5\n",
            "\n",
            "Epoch 19: ReduceLROnPlateau reducing learning rate to 3.906250185536919e-06.\n",
            "14/14 [==============================] - 292s 21s/step - loss: 0.9174 - categorical_accuracy: 0.6538 - val_loss: 1.4115 - val_categorical_accuracy: 0.4100 - lr: 7.8125e-06\n",
            "Epoch 20/30\n",
            "14/14 [==============================] - ETA: 0s - loss: 0.7642 - categorical_accuracy: 0.7308 \n",
            "Epoch 20: saving model to model_init_2023-12-0412_48_39.221333/model-00020-0.76422-0.73077-1.32829-0.44000.h5\n",
            "14/14 [==============================] - 295s 22s/step - loss: 0.7642 - categorical_accuracy: 0.7308 - val_loss: 1.3283 - val_categorical_accuracy: 0.4400 - lr: 3.9063e-06\n",
            "Epoch 21/30\n",
            "14/14 [==============================] - ETA: 0s - loss: 0.7921 - categorical_accuracy: 0.7143 \n",
            "Epoch 21: saving model to model_init_2023-12-0412_48_39.221333/model-00021-0.79206-0.71429-1.24873-0.47000.h5\n",
            "14/14 [==============================] - 295s 22s/step - loss: 0.7921 - categorical_accuracy: 0.7143 - val_loss: 1.2487 - val_categorical_accuracy: 0.4700 - lr: 3.9063e-06\n",
            "Epoch 22/30\n",
            "14/14 [==============================] - ETA: 0s - loss: 0.7736 - categorical_accuracy: 0.6978 \n",
            "Epoch 22: saving model to model_init_2023-12-0412_48_39.221333/model-00022-0.77363-0.69780-1.18327-0.48000.h5\n",
            "14/14 [==============================] - 296s 22s/step - loss: 0.7736 - categorical_accuracy: 0.6978 - val_loss: 1.1833 - val_categorical_accuracy: 0.4800 - lr: 3.9063e-06\n",
            "Epoch 23/30\n",
            "14/14 [==============================] - ETA: 0s - loss: 0.7130 - categorical_accuracy: 0.7692 \n",
            "Epoch 23: saving model to model_init_2023-12-0412_48_39.221333/model-00023-0.71297-0.76923-1.13015-0.52000.h5\n",
            "14/14 [==============================] - 292s 21s/step - loss: 0.7130 - categorical_accuracy: 0.7692 - val_loss: 1.1302 - val_categorical_accuracy: 0.5200 - lr: 3.9063e-06\n",
            "Epoch 24/30\n",
            "14/14 [==============================] - ETA: 0s - loss: 0.7695 - categorical_accuracy: 0.7143 \n",
            "Epoch 24: saving model to model_init_2023-12-0412_48_39.221333/model-00024-0.76946-0.71429-1.07781-0.55000.h5\n",
            "14/14 [==============================] - 296s 21s/step - loss: 0.7695 - categorical_accuracy: 0.7143 - val_loss: 1.0778 - val_categorical_accuracy: 0.5500 - lr: 3.9063e-06\n",
            "Epoch 25/30\n",
            "14/14 [==============================] - ETA: 0s - loss: 0.7448 - categorical_accuracy: 0.6923 \n",
            "Epoch 25: saving model to model_init_2023-12-0412_48_39.221333/model-00025-0.74478-0.69231-1.03055-0.58000.h5\n",
            "14/14 [==============================] - 297s 22s/step - loss: 0.7448 - categorical_accuracy: 0.6923 - val_loss: 1.0305 - val_categorical_accuracy: 0.5800 - lr: 3.9063e-06\n",
            "Epoch 26/30\n",
            "14/14 [==============================] - ETA: 0s - loss: 0.7675 - categorical_accuracy: 0.6868 \n",
            "Epoch 26: saving model to model_init_2023-12-0412_48_39.221333/model-00026-0.76746-0.68681-0.99222-0.59000.h5\n",
            "14/14 [==============================] - 304s 22s/step - loss: 0.7675 - categorical_accuracy: 0.6868 - val_loss: 0.9922 - val_categorical_accuracy: 0.5900 - lr: 3.9063e-06\n",
            "Epoch 27/30\n",
            "14/14 [==============================] - ETA: 0s - loss: 0.8191 - categorical_accuracy: 0.6813 \n",
            "Epoch 27: saving model to model_init_2023-12-0412_48_39.221333/model-00027-0.81913-0.68132-0.96685-0.61000.h5\n",
            "14/14 [==============================] - 295s 21s/step - loss: 0.8191 - categorical_accuracy: 0.6813 - val_loss: 0.9668 - val_categorical_accuracy: 0.6100 - lr: 3.9063e-06\n",
            "Epoch 28/30\n",
            "14/14 [==============================] - ETA: 0s - loss: 0.7179 - categorical_accuracy: 0.7198 \n",
            "Epoch 28: saving model to model_init_2023-12-0412_48_39.221333/model-00028-0.71791-0.71978-0.94091-0.64000.h5\n",
            "14/14 [==============================] - 294s 21s/step - loss: 0.7179 - categorical_accuracy: 0.7198 - val_loss: 0.9409 - val_categorical_accuracy: 0.6400 - lr: 3.9063e-06\n",
            "Epoch 29/30\n",
            "14/14 [==============================] - ETA: 0s - loss: 0.7941 - categorical_accuracy: 0.6868 \n",
            "Epoch 29: saving model to model_init_2023-12-0412_48_39.221333/model-00029-0.79407-0.68681-0.92159-0.64000.h5\n",
            "14/14 [==============================] - 295s 21s/step - loss: 0.7941 - categorical_accuracy: 0.6868 - val_loss: 0.9216 - val_categorical_accuracy: 0.6400 - lr: 3.9063e-06\n",
            "Epoch 30/30\n",
            "14/14 [==============================] - ETA: 0s - loss: 0.8052 - categorical_accuracy: 0.6868 \n",
            "Epoch 30: saving model to model_init_2023-12-0412_48_39.221333/model-00030-0.80517-0.68681-0.90369-0.66000.h5\n",
            "14/14 [==============================] - 295s 22s/step - loss: 0.8052 - categorical_accuracy: 0.6868 - val_loss: 0.9037 - val_categorical_accuracy: 0.6600 - lr: 3.9063e-06\n"
          ]
        },
        {
          "output_type": "execute_result",
          "data": {
            "text/plain": [
              "<keras.src.callbacks.History at 0x7db876b11990>"
            ]
          },
          "metadata": {},
          "execution_count": 23
        }
      ],
      "source": [
        "model_al1.fit_generator(train_generator, steps_per_epoch=steps_per_epoch, epochs=num_epochs, verbose=1,\n",
        "                    callbacks=callbacks_list, validation_data=val_generator,\n",
        "                    validation_steps=validation_steps, class_weight=None, workers=1, initial_epoch=0)"
      ]
    },
    {
      "cell_type": "markdown",
      "source": [
        "## Model 2: 2D Conv + RNN (Transfer Learning using MobileNet)"
      ],
      "metadata": {
        "id": "ItbawMDAe4tK"
      },
      "id": "ItbawMDAe4tK"
    },
    {
      "cell_type": "code",
      "source": [
        "batch_size = 10\n",
        "num_epochs = 25\n",
        "x = 30 # # x is the number of images\n",
        "y = 120 # width of the image\n",
        "z = 120 # height of the image\n",
        "classes = 5 #5 gestures\n",
        "channel = 3 #RGB"
      ],
      "metadata": {
        "id": "1C7Qck1Le6uM"
      },
      "id": "1C7Qck1Le6uM",
      "execution_count": null,
      "outputs": []
    },
    {
      "cell_type": "code",
      "source": [
        "from keras.applications import mobilenet\n",
        "pretrained_mobilenet = mobilenet.MobileNet(weights='imagenet', include_top=False)\n",
        "from keras.layers import Conv2D, MaxPooling2D\n",
        "from keras.layers import LSTM"
      ],
      "metadata": {
        "colab": {
          "base_uri": "https://localhost:8080/"
        },
        "id": "N0Zrwtz9fGDF",
        "outputId": "aa3c2563-5d46-4750-fdcb-ea69e1bc205f"
      },
      "id": "N0Zrwtz9fGDF",
      "execution_count": null,
      "outputs": [
        {
          "output_type": "stream",
          "name": "stderr",
          "text": [
            "WARNING:tensorflow:`input_shape` is undefined or non-square, or `rows` is not in [128, 160, 192, 224]. Weights for input shape (224, 224) will be loaded as the default.\n"
          ]
        }
      ]
    },
    {
      "cell_type": "code",
      "source": [
        "model_2 = Sequential()\n",
        "model_2.add(TimeDistributed(pretrained_mobilenet,input_shape=(x,y,z,channel)))\n",
        "\n",
        "model_2.add(TimeDistributed(BatchNormalization()))\n",
        "model_2.add(TimeDistributed(MaxPooling2D((2, 2))))\n",
        "model_2.add(TimeDistributed(Flatten()))\n",
        "\n",
        "model_2.add(GRU(128))\n",
        "model_2.add(Dropout(0.25))\n",
        "\n",
        "model_2.add(Dense(128,activation='relu'))\n",
        "model_2.add(Dropout(0.25))\n",
        "\n",
        "model_2.add(Dense(5, activation='softmax'))"
      ],
      "metadata": {
        "id": "NpADvt4KfULb"
      },
      "id": "NpADvt4KfULb",
      "execution_count": null,
      "outputs": []
    },
    {
      "cell_type": "code",
      "source": [
        "train_generator2 = generator(train_path, train_doc, batch_size)\n",
        "val_generator2 = generator(val_path, val_doc, batch_size)\n",
        "\n",
        "optimiser = optimizers.Adam(lr=0.0001) #write your optimizer\n",
        "model_2.compile(optimizer=optimiser, loss='categorical_crossentropy', metrics=['categorical_accuracy'])\n",
        "print(model_2.summary())"
      ],
      "metadata": {
        "colab": {
          "base_uri": "https://localhost:8080/"
        },
        "id": "hBTYV4VbfkC5",
        "outputId": "08a21da8-ac59-41c9-ba16-27c0f484d0b1"
      },
      "id": "hBTYV4VbfkC5",
      "execution_count": null,
      "outputs": [
        {
          "output_type": "stream",
          "name": "stderr",
          "text": [
            "WARNING:absl:`lr` is deprecated in Keras optimizer, please use `learning_rate` or use the legacy optimizer, e.g.,tf.keras.optimizers.legacy.Adam.\n"
          ]
        },
        {
          "output_type": "stream",
          "name": "stdout",
          "text": [
            "Model: \"sequential_2\"\n",
            "_________________________________________________________________\n",
            " Layer (type)                Output Shape              Param #   \n",
            "=================================================================\n",
            " time_distributed (TimeDist  (None, 30, 3, 3, 1024)    3228864   \n",
            " ributed)                                                        \n",
            "                                                                 \n",
            " time_distributed_1 (TimeDi  (None, 30, 3, 3, 1024)    4096      \n",
            " stributed)                                                      \n",
            "                                                                 \n",
            " time_distributed_2 (TimeDi  (None, 30, 1, 1, 1024)    0         \n",
            " stributed)                                                      \n",
            "                                                                 \n",
            " time_distributed_3 (TimeDi  (None, 30, 1024)          0         \n",
            " stributed)                                                      \n",
            "                                                                 \n",
            " gru (GRU)                   (None, 128)               443136    \n",
            "                                                                 \n",
            " dropout_4 (Dropout)         (None, 128)               0         \n",
            "                                                                 \n",
            " dense_6 (Dense)             (None, 128)               16512     \n",
            "                                                                 \n",
            " dropout_5 (Dropout)         (None, 128)               0         \n",
            "                                                                 \n",
            " dense_7 (Dense)             (None, 5)                 645       \n",
            "                                                                 \n",
            "=================================================================\n",
            "Total params: 3693253 (14.09 MB)\n",
            "Trainable params: 3669317 (14.00 MB)\n",
            "Non-trainable params: 23936 (93.50 KB)\n",
            "_________________________________________________________________\n",
            "None\n"
          ]
        }
      ]
    },
    {
      "cell_type": "code",
      "source": [
        "model_name = 'model_init' + '_' + str(curr_dt_time).replace(' ','').replace(':','_') + '/'\n",
        "\n",
        "if not os.path.exists(model_name):\n",
        "    os.mkdir(model_name)\n",
        "\n",
        "filepath = model_name + 'model-{epoch:05d}-{loss:.5f}-{categorical_accuracy:.5f}-{val_loss:.5f}-{val_categorical_accuracy:.5f}.h5'\n",
        "\n",
        "checkpoint = ModelCheckpoint(filepath, monitor='val_loss', verbose=1, save_best_only=False, save_weights_only=False, mode='auto', period=1)\n",
        "\n",
        "LR = ReduceLROnPlateau(monitor='val_loss', factor=0.5, patience=2, cooldown=1, verbose=1)  # write the REducelronplateau code here\n",
        "callbacks_list = [checkpoint, LR]"
      ],
      "metadata": {
        "colab": {
          "base_uri": "https://localhost:8080/"
        },
        "id": "HMOalJKtfsGo",
        "outputId": "8e35e320-cd1c-4e5f-8c3d-687e06c13017"
      },
      "id": "HMOalJKtfsGo",
      "execution_count": null,
      "outputs": [
        {
          "output_type": "stream",
          "name": "stderr",
          "text": [
            "WARNING:tensorflow:`period` argument is deprecated. Please use `save_freq` to specify the frequency in number of batches seen.\n"
          ]
        }
      ]
    },
    {
      "cell_type": "code",
      "source": [
        "if (num_train_sequences%batch_size) == 0:\n",
        "    steps_per_epoch = int(num_train_sequences/batch_size)\n",
        "else:\n",
        "    steps_per_epoch = (num_train_sequences//batch_size) + 1\n",
        "\n",
        "if (num_val_sequences%batch_size) == 0:\n",
        "    validation_steps = int(num_val_sequences/batch_size)\n",
        "else:\n",
        "    validation_steps = (num_val_sequences//batch_size) + 1"
      ],
      "metadata": {
        "id": "Kew3QUT8f04p"
      },
      "id": "Kew3QUT8f04p",
      "execution_count": null,
      "outputs": []
    },
    {
      "cell_type": "code",
      "source": [
        "history = model_2.fit_generator(train_generator2, steps_per_epoch=steps_per_epoch, epochs=num_epochs, verbose=1,\n",
        "                    callbacks=callbacks_list, validation_data=val_generator2,\n",
        "                    validation_steps=validation_steps, class_weight=None, workers=1, initial_epoch=0)"
      ],
      "metadata": {
        "colab": {
          "base_uri": "https://localhost:8080/"
        },
        "id": "WOiVPYtDf6Sa",
        "outputId": "bf5c1198-3e76-4a4a-c1d4-0e6fad16621b"
      },
      "id": "WOiVPYtDf6Sa",
      "execution_count": null,
      "outputs": [
        {
          "output_type": "stream",
          "name": "stderr",
          "text": [
            "<ipython-input-31-e74d0b95d50a>:1: UserWarning: `Model.fit_generator` is deprecated and will be removed in a future version. Please use `Model.fit`, which supports generators.\n",
            "  history = model_2.fit_generator(train_generator2, steps_per_epoch=steps_per_epoch, epochs=num_epochs, verbose=1,\n",
            "<ipython-input-6-502af651a6fd>:13: DeprecationWarning: Starting with ImageIO v3 the behavior of this function will switch to that of iio.v3.imread. To keep the current behavior (and make this warning disappear) use `import imageio.v2 as imageio` or call `imageio.v2.imread` directly.\n",
            "  image = imageio.imread(source_path+'/'+ t[folder + (batch*batch_size)].strip().split(';')[0]+'/'+imgs[item]).astype(np.float32)\n"
          ]
        },
        {
          "output_type": "stream",
          "name": "stdout",
          "text": [
            "Source path =  /content/gdrive/MyDrive/Upgrad/RNN/Project_data/Project_data/train ; batch size = 10\n",
            "Epoch 1/25\n",
            "64/67 [===========================>..] - ETA: 1:12 - loss: 1.1394 - categorical_accuracy: 0.5484Batch:  67 Index: 10\n"
          ]
        },
        {
          "output_type": "stream",
          "name": "stderr",
          "text": [
            "<ipython-input-6-502af651a6fd>:38: DeprecationWarning: Starting with ImageIO v3 the behavior of this function will switch to that of iio.v3.imread. To keep the current behavior (and make this warning disappear) use `import imageio.v2 as imageio` or call `imageio.v2.imread` directly.\n",
            "  image = imageio.imread(source_path+'/'+ t[folder + (batch*batch_size)].strip().split(';')[0]+'/'+imgs[item]).astype(np.float32)\n"
          ]
        },
        {
          "output_type": "stream",
          "name": "stdout",
          "text": [
            "67/67 [==============================] - ETA: 0s - loss: 1.1261 - categorical_accuracy: 0.5551 Source path =  /content/gdrive/MyDrive/Upgrad/RNN/Project_data/Project_data/val ; batch size = 10\n",
            "\n",
            "Epoch 1: saving model to model_init_2023-12-0412_48_39.221333/model-00001-1.12605-0.55505-0.73221-0.66000.h5\n"
          ]
        },
        {
          "output_type": "stream",
          "name": "stderr",
          "text": [
            "/usr/local/lib/python3.10/dist-packages/keras/src/engine/training.py:3079: UserWarning: You are saving your model as an HDF5 file via `model.save()`. This file format is considered legacy. We recommend using instead the native Keras format, e.g. `model.save('my_model.keras')`.\n",
            "  saving_api.save_model(\n"
          ]
        },
        {
          "output_type": "stream",
          "name": "stdout",
          "text": [
            "\b\b\b\b\b\b\b\b\b\b\b\b\b\b\b\b\b\b\b\b\b\b\b\b\b\b\b\b\b\b\b\b\b\b\b\b\b\b\b\b\b\b\b\b\b\b\b\b\b\b\b\b\b\b\b\b\b\b\b\b\b\b\b\b\b\b\b\b\b\b\b\b\b\b\b\b\b\b\b\b\b\b\b\b\b\b\b\b\b\b\b\b\b\b\r67/67 [==============================] - 1714s 25s/step - loss: 1.1261 - categorical_accuracy: 0.5551 - val_loss: 0.7322 - val_categorical_accuracy: 0.6600 - lr: 0.0010\n",
            "Epoch 2/25\n",
            "67/67 [==============================] - ETA: 0s - loss: 1.2530 - categorical_accuracy: 0.4826\n",
            "Epoch 2: saving model to model_init_2023-12-0412_48_39.221333/model-00002-1.25299-0.48259-1.02965-0.58000.h5\n",
            "67/67 [==============================] - 558s 8s/step - loss: 1.2530 - categorical_accuracy: 0.4826 - val_loss: 1.0296 - val_categorical_accuracy: 0.5800 - lr: 0.0010\n",
            "Epoch 3/25\n",
            "67/67 [==============================] - ETA: 0s - loss: 1.0419 - categorical_accuracy: 0.6020\n",
            "Epoch 3: saving model to model_init_2023-12-0412_48_39.221333/model-00003-1.04188-0.60199-1.17982-0.57000.h5\n",
            "\n",
            "Epoch 3: ReduceLROnPlateau reducing learning rate to 0.0005000000237487257.\n",
            "67/67 [==============================] - 524s 8s/step - loss: 1.0419 - categorical_accuracy: 0.6020 - val_loss: 1.1798 - val_categorical_accuracy: 0.5700 - lr: 0.0010\n",
            "Epoch 4/25\n",
            "67/67 [==============================] - ETA: 0s - loss: 0.9355 - categorical_accuracy: 0.6418\n",
            "Epoch 4: saving model to model_init_2023-12-0412_48_39.221333/model-00004-0.93552-0.64179-0.61771-0.70000.h5\n",
            "67/67 [==============================] - 548s 8s/step - loss: 0.9355 - categorical_accuracy: 0.6418 - val_loss: 0.6177 - val_categorical_accuracy: 0.7000 - lr: 5.0000e-04\n",
            "Epoch 5/25\n",
            "67/67 [==============================] - ETA: 0s - loss: 0.7571 - categorical_accuracy: 0.7015\n",
            "Epoch 5: saving model to model_init_2023-12-0412_48_39.221333/model-00005-0.75712-0.70149-0.39701-0.90000.h5\n",
            "67/67 [==============================] - 561s 8s/step - loss: 0.7571 - categorical_accuracy: 0.7015 - val_loss: 0.3970 - val_categorical_accuracy: 0.9000 - lr: 5.0000e-04\n",
            "Epoch 6/25\n",
            "67/67 [==============================] - ETA: 0s - loss: 0.5948 - categorical_accuracy: 0.7910\n",
            "Epoch 6: saving model to model_init_2023-12-0412_48_39.221333/model-00006-0.59483-0.79104-0.43178-0.82000.h5\n",
            "67/67 [==============================] - 555s 8s/step - loss: 0.5948 - categorical_accuracy: 0.7910 - val_loss: 0.4318 - val_categorical_accuracy: 0.8200 - lr: 5.0000e-04\n",
            "Epoch 7/25\n",
            "67/67 [==============================] - ETA: 0s - loss: 0.6580 - categorical_accuracy: 0.7861\n",
            "Epoch 7: saving model to model_init_2023-12-0412_48_39.221333/model-00007-0.65805-0.78607-0.45023-0.80000.h5\n",
            "\n",
            "Epoch 7: ReduceLROnPlateau reducing learning rate to 0.0002500000118743628.\n",
            "67/67 [==============================] - 559s 8s/step - loss: 0.6580 - categorical_accuracy: 0.7861 - val_loss: 0.4502 - val_categorical_accuracy: 0.8000 - lr: 5.0000e-04\n",
            "Epoch 8/25\n",
            "67/67 [==============================] - ETA: 0s - loss: 0.4655 - categorical_accuracy: 0.8159\n",
            "Epoch 8: saving model to model_init_2023-12-0412_48_39.221333/model-00008-0.46549-0.81592-0.52538-0.76000.h5\n",
            "67/67 [==============================] - 552s 8s/step - loss: 0.4655 - categorical_accuracy: 0.8159 - val_loss: 0.5254 - val_categorical_accuracy: 0.7600 - lr: 2.5000e-04\n",
            "Epoch 9/25\n",
            "67/67 [==============================] - ETA: 0s - loss: 0.3708 - categorical_accuracy: 0.8955\n",
            "Epoch 9: saving model to model_init_2023-12-0412_48_39.221333/model-00009-0.37081-0.89552-0.53826-0.80000.h5\n",
            "\n",
            "Epoch 9: ReduceLROnPlateau reducing learning rate to 0.0001250000059371814.\n",
            "67/67 [==============================] - 535s 8s/step - loss: 0.3708 - categorical_accuracy: 0.8955 - val_loss: 0.5383 - val_categorical_accuracy: 0.8000 - lr: 2.5000e-04\n",
            "Epoch 10/25\n",
            "67/67 [==============================] - ETA: 0s - loss: 0.4431 - categorical_accuracy: 0.8507\n",
            "Epoch 10: saving model to model_init_2023-12-0412_48_39.221333/model-00010-0.44306-0.85075-0.45172-0.80000.h5\n",
            "67/67 [==============================] - 570s 9s/step - loss: 0.4431 - categorical_accuracy: 0.8507 - val_loss: 0.4517 - val_categorical_accuracy: 0.8000 - lr: 1.2500e-04\n",
            "Epoch 11/25\n",
            "67/67 [==============================] - ETA: 0s - loss: 0.3058 - categorical_accuracy: 0.8856\n",
            "Epoch 11: saving model to model_init_2023-12-0412_48_39.221333/model-00011-0.30576-0.88557-0.41585-0.78000.h5\n",
            "\n",
            "Epoch 11: ReduceLROnPlateau reducing learning rate to 6.25000029685907e-05.\n",
            "67/67 [==============================] - 565s 8s/step - loss: 0.3058 - categorical_accuracy: 0.8856 - val_loss: 0.4158 - val_categorical_accuracy: 0.7800 - lr: 1.2500e-04\n",
            "Epoch 12/25\n",
            "67/67 [==============================] - ETA: 0s - loss: 0.2730 - categorical_accuracy: 0.8905\n",
            "Epoch 12: saving model to model_init_2023-12-0412_48_39.221333/model-00012-0.27304-0.89055-0.42894-0.78000.h5\n",
            "67/67 [==============================] - 564s 8s/step - loss: 0.2730 - categorical_accuracy: 0.8905 - val_loss: 0.4289 - val_categorical_accuracy: 0.7800 - lr: 6.2500e-05\n",
            "Epoch 13/25\n",
            "67/67 [==============================] - ETA: 0s - loss: 0.3159 - categorical_accuracy: 0.8806\n",
            "Epoch 13: saving model to model_init_2023-12-0412_48_39.221333/model-00013-0.31589-0.88060-0.40288-0.81000.h5\n",
            "\n",
            "Epoch 13: ReduceLROnPlateau reducing learning rate to 3.125000148429535e-05.\n",
            "67/67 [==============================] - 562s 8s/step - loss: 0.3159 - categorical_accuracy: 0.8806 - val_loss: 0.4029 - val_categorical_accuracy: 0.8100 - lr: 6.2500e-05\n",
            "Epoch 14/25\n",
            "67/67 [==============================] - ETA: 0s - loss: 0.2611 - categorical_accuracy: 0.9204\n",
            "Epoch 14: saving model to model_init_2023-12-0412_48_39.221333/model-00014-0.26109-0.92040-0.31025-0.84000.h5\n",
            "67/67 [==============================] - 567s 8s/step - loss: 0.2611 - categorical_accuracy: 0.9204 - val_loss: 0.3103 - val_categorical_accuracy: 0.8400 - lr: 3.1250e-05\n",
            "Epoch 15/25\n",
            "67/67 [==============================] - ETA: 0s - loss: 0.2374 - categorical_accuracy: 0.9254\n",
            "Epoch 15: saving model to model_init_2023-12-0412_48_39.221333/model-00015-0.23742-0.92537-0.40235-0.77000.h5\n",
            "67/67 [==============================] - 564s 8s/step - loss: 0.2374 - categorical_accuracy: 0.9254 - val_loss: 0.4024 - val_categorical_accuracy: 0.7700 - lr: 3.1250e-05\n",
            "Epoch 16/25\n",
            "67/67 [==============================] - ETA: 0s - loss: 0.2007 - categorical_accuracy: 0.9303\n",
            "Epoch 16: saving model to model_init_2023-12-0412_48_39.221333/model-00016-0.20066-0.93035-0.37320-0.79000.h5\n",
            "\n",
            "Epoch 16: ReduceLROnPlateau reducing learning rate to 1.5625000742147677e-05.\n",
            "67/67 [==============================] - 563s 8s/step - loss: 0.2007 - categorical_accuracy: 0.9303 - val_loss: 0.3732 - val_categorical_accuracy: 0.7900 - lr: 3.1250e-05\n",
            "Epoch 17/25\n",
            "67/67 [==============================] - ETA: 0s - loss: 0.2223 - categorical_accuracy: 0.9254\n",
            "Epoch 17: saving model to model_init_2023-12-0412_48_39.221333/model-00017-0.22231-0.92537-0.39465-0.78000.h5\n",
            "67/67 [==============================] - 630s 9s/step - loss: 0.2223 - categorical_accuracy: 0.9254 - val_loss: 0.3947 - val_categorical_accuracy: 0.7800 - lr: 1.5625e-05\n",
            "Epoch 18/25\n",
            "67/67 [==============================] - ETA: 0s - loss: 0.2094 - categorical_accuracy: 0.9502\n",
            "Epoch 18: saving model to model_init_2023-12-0412_48_39.221333/model-00018-0.20943-0.95025-0.43866-0.76000.h5\n",
            "\n",
            "Epoch 18: ReduceLROnPlateau reducing learning rate to 7.812500371073838e-06.\n",
            "67/67 [==============================] - 558s 8s/step - loss: 0.2094 - categorical_accuracy: 0.9502 - val_loss: 0.4387 - val_categorical_accuracy: 0.7600 - lr: 1.5625e-05\n",
            "Epoch 19/25\n",
            "67/67 [==============================] - ETA: 0s - loss: 0.2059 - categorical_accuracy: 0.9204\n",
            "Epoch 19: saving model to model_init_2023-12-0412_48_39.221333/model-00019-0.20592-0.92040-0.37579-0.81000.h5\n",
            "67/67 [==============================] - 562s 8s/step - loss: 0.2059 - categorical_accuracy: 0.9204 - val_loss: 0.3758 - val_categorical_accuracy: 0.8100 - lr: 7.8125e-06\n",
            "Epoch 20/25\n",
            "67/67 [==============================] - ETA: 0s - loss: 0.1690 - categorical_accuracy: 0.9502\n",
            "Epoch 20: saving model to model_init_2023-12-0412_48_39.221333/model-00020-0.16902-0.95025-0.37113-0.83000.h5\n",
            "\n",
            "Epoch 20: ReduceLROnPlateau reducing learning rate to 3.906250185536919e-06.\n",
            "67/67 [==============================] - 610s 9s/step - loss: 0.1690 - categorical_accuracy: 0.9502 - val_loss: 0.3711 - val_categorical_accuracy: 0.8300 - lr: 7.8125e-06\n",
            "Epoch 21/25\n",
            "67/67 [==============================] - ETA: 0s - loss: 0.1774 - categorical_accuracy: 0.9403\n",
            "Epoch 21: saving model to model_init_2023-12-0412_48_39.221333/model-00021-0.17742-0.94030-0.37296-0.81000.h5\n",
            "67/67 [==============================] - 576s 9s/step - loss: 0.1774 - categorical_accuracy: 0.9403 - val_loss: 0.3730 - val_categorical_accuracy: 0.8100 - lr: 3.9063e-06\n",
            "Epoch 22/25\n",
            "67/67 [==============================] - ETA: 0s - loss: 0.1403 - categorical_accuracy: 0.9751\n",
            "Epoch 22: saving model to model_init_2023-12-0412_48_39.221333/model-00022-0.14031-0.97512-0.37496-0.80000.h5\n",
            "\n",
            "Epoch 22: ReduceLROnPlateau reducing learning rate to 1.9531250927684596e-06.\n",
            "67/67 [==============================] - 644s 10s/step - loss: 0.1403 - categorical_accuracy: 0.9751 - val_loss: 0.3750 - val_categorical_accuracy: 0.8000 - lr: 3.9063e-06\n",
            "Epoch 23/25\n",
            "67/67 [==============================] - ETA: 0s - loss: 0.2345 - categorical_accuracy: 0.9104\n",
            "Epoch 23: saving model to model_init_2023-12-0412_48_39.221333/model-00023-0.23454-0.91045-0.35451-0.82000.h5\n",
            "67/67 [==============================] - 655s 10s/step - loss: 0.2345 - categorical_accuracy: 0.9104 - val_loss: 0.3545 - val_categorical_accuracy: 0.8200 - lr: 1.9531e-06\n",
            "Epoch 24/25\n",
            "67/67 [==============================] - ETA: 0s - loss: 0.2300 - categorical_accuracy: 0.9204\n",
            "Epoch 24: saving model to model_init_2023-12-0412_48_39.221333/model-00024-0.23000-0.92040-0.37463-0.82000.h5\n",
            "\n",
            "Epoch 24: ReduceLROnPlateau reducing learning rate to 9.765625463842298e-07.\n",
            "67/67 [==============================] - 600s 9s/step - loss: 0.2300 - categorical_accuracy: 0.9204 - val_loss: 0.3746 - val_categorical_accuracy: 0.8200 - lr: 1.9531e-06\n",
            "Epoch 25/25\n",
            "67/67 [==============================] - ETA: 0s - loss: 0.1391 - categorical_accuracy: 0.9652\n",
            "Epoch 25: saving model to model_init_2023-12-0412_48_39.221333/model-00025-0.13914-0.96517-0.43439-0.78000.h5\n",
            "67/67 [==============================] - 560s 8s/step - loss: 0.1391 - categorical_accuracy: 0.9652 - val_loss: 0.4344 - val_categorical_accuracy: 0.7800 - lr: 9.7656e-07\n"
          ]
        }
      ]
    },
    {
      "cell_type": "code",
      "source": [
        "import matplotlib.pyplot as plt\n",
        "def plot(history):\n",
        "    fig, axes = plt.subplots(nrows=1, ncols=2, figsize=(15,4))\n",
        "    axes[0].plot(history.history['loss'])\n",
        "    axes[0].plot(history.history['val_loss'])\n",
        "    axes[0].legend(['loss','val_loss'])\n",
        "    plt.ylabel('Loss')\n",
        "    plt.xlabel('Epoch')"
      ],
      "metadata": {
        "id": "N7Vd81stbh30"
      },
      "id": "N7Vd81stbh30",
      "execution_count": null,
      "outputs": []
    },
    {
      "cell_type": "code",
      "source": [
        "plot(history)"
      ],
      "metadata": {
        "colab": {
          "base_uri": "https://localhost:8080/",
          "height": 306
        },
        "id": "sYT2Qqb6bkcL",
        "outputId": "74d1695a-9bc9-4944-bc5e-a262097a8b73"
      },
      "id": "sYT2Qqb6bkcL",
      "execution_count": null,
      "outputs": [
        {
          "output_type": "display_data",
          "data": {
            "text/plain": [
              "<Figure size 1500x400 with 2 Axes>"
            ],
            "image/png": "[encoded data removed]"
          },
          "metadata": {}
        }
      ]
    }
  ],
  "metadata": {
    "jupytext": {
      "cell_metadata_filter": "-all",
      "encoding": "# coding: utf-8",
      "executable": "/usr/bin/env python",
      "main_language": "python",
      "notebook_metadata_filter": "-all"
    },
    "kernelspec": {
      "display_name": "Python 3 (ipykernel)",
      "language": "python",
      "name": "python3"
    },
    "language_info": {
      "codemirror_mode": {
        "name": "ipython",
        "version": 3
      },
      "file_extension": ".py",
      "mimetype": "text/x-python",
      "name": "python",
      "nbconvert_exporter": "python",
      "pygments_lexer": "ipython3",
      "version": "3.9.7"
    },
    "colab": {
      "provenance": []
    }
  },
  "nbformat": 4,
  "nbformat_minor": 5
}